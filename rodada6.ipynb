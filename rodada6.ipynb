{
  "nbformat": 4,
  "nbformat_minor": 0,
  "metadata": {
    "colab": {
      "provenance": [],
      "authorship_tag": "ABX9TyNYAE/vn19ToMsto8Ov90Qv",
      "include_colab_link": true
    },
    "kernelspec": {
      "name": "python3",
      "display_name": "Python 3"
    },
    "language_info": {
      "name": "python"
    }
  },
  "cells": [
    {
      "cell_type": "markdown",
      "metadata": {
        "id": "view-in-github",
        "colab_type": "text"
      },
      "source": [
        "<a href=\"https://colab.research.google.com/github/edsonlcandido/gemini-cartola-rodada6/blob/main/rodada6.ipynb\" target=\"_parent\"><img src=\"https://colab.research.google.com/assets/colab-badge.svg\" alt=\"Open In Colab\"/></a>"
      ]
    },
    {
      "cell_type": "code",
      "execution_count": 4,
      "metadata": {
        "colab": {
          "base_uri": "https://localhost:8080/"
        },
        "id": "hmLCqh9b_CAz",
        "outputId": "0d1ded03-1842-495e-9516-87d4cc1b46b4"
      },
      "outputs": [
        {
          "output_type": "stream",
          "name": "stdout",
          "text": [
            "['atleta_minimo_para_valorizar', 'atleta_jogos_num', 'atleta_id', 'atleta_rodada_id', 'clube_id', 'posicao_id', 'status_id', 'atleta_pontos_num', 'atleta_media_num', 'atleta_variacao_num', 'atleta_preco_num', 'atleta_entrou_em_campo', 'atleta_slug', 'atleta_apelido', 'atleta_apelido_abreviado', 'atleta_nome', 'atleta_foto', 'atleta_scout.A', 'atleta_scout.CA', 'atleta_scout.DS', 'atleta_scout.FC', 'atleta_scout.FD', 'atleta_scout.FF', 'atleta_scout.FS', 'atleta_scout.G', 'atleta_scout.I', 'atleta_scout.SG', 'atleta_gato_mestre.scouts.media', 'atleta_gato_mestre.scouts.mandante', 'atleta_gato_mestre.scouts.visitante', 'atleta_gato_mestre.media_pontos_mandante', 'atleta_gato_mestre.media_pontos_visitante', 'atleta_gato_mestre.media_minutos_jogados', 'atleta_gato_mestre.minutos_jogados', 'atleta_scout.DE', 'atleta_scout.GS', 'atleta_scout.CV', 'atleta_scout.V', 'atleta_scout.FT', 'atleta_scout.PS', 'atleta_scout.PC', 'atleta_scout.DP', 'atleta_scout.GC', 'atleta_scout.PP', 'posicao_nome', 'posicao_abreviacao', 'clube_escudos', 'clube_nome', 'clube_abreviacao', 'clube_slug', 'clube_apelido', 'clube_nome_fantasia', 'clube_url_editoria', 'status_nome', 'aproveitamento_visitante_x', 'aproveitamento_mandante_x', 'local_x', 'status_transmissao_tr_x', 'status_cronometro_tr_x', 'periodo_tr_x', 'partida_data_x', 'inicio_cronometro_tr_x', 'placar_oficial_visitante_x', 'placar_oficial_mandante_x', 'partida_id_x', 'clube_visitante_posicao_x', 'clube_visitante_id_x', 'clube_casa_posicao_x', 'clube_casa_id_x', 'timestamp_x', 'campeonato_id_x', 'valida_x', 'transmissao.label_x', 'transmissao.url_x', 'casa_clube_escudos_x', 'casa_clube_nome_x', 'casa_clube_abreviacao_x', 'casa_clube_slug_x', 'casa_clube_apelido_x', 'casa_clube_nome_fantasia_x', 'casa_clube_id_x', 'casa_clube_url_editoria_x', 'visitante_clube_escudos_x', 'visitante_clube_nome_x', 'visitante_clube_abreviacao_x', 'visitante_clube_slug_x', 'visitante_clube_apelido_x', 'visitante_clube_nome_fantasia_x', 'visitante_clube_id_x', 'visitante_clube_url_editoria_x', 'confronto_slug_x', 'aproveitamento_visitante_y', 'aproveitamento_mandante_y', 'local_y', 'status_transmissao_tr_y', 'status_cronometro_tr_y', 'periodo_tr_y', 'partida_data_y', 'inicio_cronometro_tr_y', 'placar_oficial_visitante_y', 'placar_oficial_mandante_y', 'partida_id_y', 'clube_visitante_posicao_y', 'clube_visitante_id_y', 'clube_casa_posicao_y', 'clube_casa_id_y', 'timestamp_y', 'campeonato_id_y', 'valida_y', 'transmissao.label_y', 'transmissao.url_y', 'casa_clube_escudos_y', 'casa_clube_nome_y', 'casa_clube_abreviacao_y', 'casa_clube_slug_y', 'casa_clube_apelido_y', 'casa_clube_nome_fantasia_y', 'casa_clube_id_y', 'casa_clube_url_editoria_y', 'visitante_clube_escudos_y', 'visitante_clube_nome_y', 'visitante_clube_abreviacao_y', 'visitante_clube_slug_y', 'visitante_clube_apelido_y', 'visitante_clube_nome_fantasia_y', 'visitante_clube_id_y', 'visitante_clube_url_editoria_y', 'confronto_slug_y']\n"
          ]
        }
      ],
      "source": [
        "import pandas as pd\n",
        "import requests\n",
        "import json\n",
        "url = \"https://api.cartola.globo.com/atletas/mercado\"\n",
        "response = requests.get(url)\n",
        "json_data = response.json()\n",
        "data_dict = json.loads(response.text)\n",
        "atletas_df = pd.json_normalize(data_dict[\"atletas\"],max_level=2)\n",
        "atletas_df=atletas_df.add_prefix('atleta_')\n",
        "#print(atletas_df.columns.tolist())\n",
        "atletas_df = atletas_df.rename(columns={'atleta_atleta_id':'atleta_id',\n",
        "                                        'atleta_clube_id': 'clube_id',\n",
        "                                        'atleta_posicao_id':'posicao_id',\n",
        "                                        'atleta_status_id':'status_id'})\n",
        "\n",
        "# Create the clubes DataFrame\n",
        "clubes_df = pd.DataFrame.from_dict(data_dict[\"clubes\"], orient='index')\n",
        "clubes_df=clubes_df.add_prefix('clube_')\n",
        "#print(clubes_df.columns.tolist())\n",
        "\n",
        "# Create the posicoes DataFrame\n",
        "posicoes_df = pd.DataFrame.from_dict(data_dict[\"posicoes\"], orient='index')\n",
        "posicoes_df=posicoes_df.add_prefix('posicao_')\n",
        "#print(posicoes_df.columns.tolist())\n",
        "\n",
        "#Create the status dataframe\n",
        "status_df=pd.DataFrame.from_dict(data_dict[\"status\"], orient='index')\n",
        "status_df=status_df.add_prefix('status_')\n",
        "#print(status_df.columns.tolist())\n",
        "\n",
        "colunas = ['atleta_apelido','clube_abreviacao','posicao_abreviacao','status_nome', 'atleta_preco_num']\n",
        "\n",
        "partidas_response = requests.get('https://api.cartola.globo.com/partidas')\n",
        "partidas_json_data = partidas_response.json()\n",
        "partidas_df = pd.json_normalize(partidas_json_data[\"partidas\"],max_level=1)\n",
        "#print(partidas_df.columns.tolist())\n",
        "confrontos_df = partidas_df.merge(clubes_df.add_prefix('casa_'), left_on='clube_casa_id', right_on='casa_clube_id')\n",
        "confrontos_df = confrontos_df.merge(clubes_df.add_prefix('visitante_'), left_on='clube_visitante_id', right_on='visitante_clube_id')\n",
        "confrontos_df['confronto_slug'] = confrontos_df['casa_clube_abreviacao'] + ' X ' + confrontos_df['visitante_clube_abreviacao']\n",
        "#print(confrontos_df.columns.tolist())\n",
        "df = atletas_df.merge(posicoes_df, left_on='posicao_id',right_on='posicao_id')\n",
        "df = df.merge(clubes_df, left_on='clube_id', right_on='clube_id')\n",
        "df = df.merge(status_df, left_on='status_id', right_on='status_id')\n",
        "df = df.merge(confrontos_df, how='left', left_on=['clube_id'], right_on=['clube_casa_id'])\n",
        "df = df.merge(confrontos_df, how='left', left_on=['clube_id'], right_on=['clube_visitante_id'])\n",
        "print(df.columns.tolist())\n"
      ]
    },
    {
      "cell_type": "code",
      "source": [
        "# prompt: gostaria de saber se o jogadores zagueiros no dataframe df pontuam mais [atleta_media_num] quando fazem desarmes [atleta_scout.DS] ou [atleta_scout.A] ou gols [atleta_scout.G]\n",
        "\n",
        "df_zagueiros = df[df['posicao_abreviacao'] == 'ZAG']\n",
        "df_zagueiros_com_gols = df_zagueiros[df_zagueiros['atleta_scout.G'] > 0]\n",
        "df_zagueiros_com_desarmes = df_zagueiros[df_zagueiros['atleta_scout.DS'] > 0]\n",
        "df_zagueiros_com_assistencias = df_zagueiros[df_zagueiros['atleta_scout.A'] > 0]\n",
        "\n",
        "# Calculate average score for each category\n",
        "media_gols = df_zagueiros_com_gols['atleta_media_num'].mean()\n",
        "media_desarmes = df_zagueiros_com_desarmes['atleta_media_num'].mean()\n",
        "media_assistencias = df_zagueiros_com_assistencias['atleta_media_num'].mean()\n",
        "\n",
        "# Compare the averages\n",
        "if media_gols > media_desarmes and media_gols > media_assistencias:\n",
        "    print(\"Zagueiros pontuam mais quando fazem gols.\")\n",
        "elif media_desarmes > media_gols and media_desarmes > media_assistencias:\n",
        "    print(\"Zagueiros pontuam mais quando fazem desarmes.\")\n",
        "else:\n",
        "    print(\"Zagueiros pontuam mais quando fazem assistências.\")"
      ],
      "metadata": {
        "id": "tmi7KGJxRJQ6",
        "outputId": "30259d1b-696c-4352-c019-f64d7ab2ed73",
        "colab": {
          "base_uri": "https://localhost:8080/"
        }
      },
      "execution_count": 9,
      "outputs": [
        {
          "output_type": "stream",
          "name": "stdout",
          "text": [
            "Zagueiros pontuam mais quando fazem assistências.\n"
          ]
        }
      ]
    }
  ]
}