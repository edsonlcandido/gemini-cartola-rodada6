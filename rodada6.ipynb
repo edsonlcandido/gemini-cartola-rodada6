{
  "nbformat": 4,
  "nbformat_minor": 0,
  "metadata": {
    "colab": {
      "provenance": [],
      "authorship_tag": "ABX9TyN2FFsuQBrIdSNa+ZUD5Ccu",
      "include_colab_link": true
    },
    "kernelspec": {
      "name": "python3",
      "display_name": "Python 3"
    },
    "language_info": {
      "name": "python"
    }
  },
  "cells": [
    {
      "cell_type": "markdown",
      "metadata": {
        "id": "view-in-github",
        "colab_type": "text"
      },
      "source": [
        "<a href=\"https://colab.research.google.com/github/edsonlcandido/gemini-cartola-rodada6/blob/main/rodada6.ipynb\" target=\"_parent\"><img src=\"https://colab.research.google.com/assets/colab-badge.svg\" alt=\"Open In Colab\"/></a>"
      ]
    },
    {
      "cell_type": "code",
      "execution_count": null,
      "metadata": {
        "id": "sjFXsggwjSl8"
      },
      "outputs": [],
      "source": []
    },
    {
      "cell_type": "code",
      "execution_count": 1,
      "metadata": {
        "colab": {
          "base_uri": "https://localhost:8080/"
        },
        "id": "hmLCqh9b_CAz",
        "outputId": "88d8f5a5-2152-49e1-bc7e-033ca1a78ef4"
      },
      "outputs": [
        {
          "output_type": "stream",
          "name": "stdout",
          "text": [
            "['atleta_minimo_para_valorizar', 'atleta_jogos_num', 'atleta_atleta_id', 'atleta_rodada_id', 'atleta_clube_id', 'atleta_posicao_id', 'atleta_status_id', 'atleta_pontos_num', 'atleta_media_num', 'atleta_variacao_num', 'atleta_preco_num', 'atleta_entrou_em_campo', 'atleta_slug', 'atleta_apelido', 'atleta_apelido_abreviado', 'atleta_nome', 'atleta_foto', 'atleta_scout.A', 'atleta_scout.CA', 'atleta_scout.DS', 'atleta_scout.FC', 'atleta_scout.FD', 'atleta_scout.FF', 'atleta_scout.FS', 'atleta_scout.G', 'atleta_scout.I', 'atleta_scout.SG', 'atleta_gato_mestre.scouts.media', 'atleta_gato_mestre.scouts.mandante', 'atleta_gato_mestre.scouts.visitante', 'atleta_gato_mestre.media_pontos_mandante', 'atleta_gato_mestre.media_pontos_visitante', 'atleta_gato_mestre.media_minutos_jogados', 'atleta_gato_mestre.minutos_jogados', 'atleta_scout.DE', 'atleta_scout.GS', 'atleta_scout.GC', 'atleta_scout.CV', 'atleta_scout.FT', 'atleta_scout.V', 'atleta_scout.PP', 'atleta_scout.PS', 'atleta_scout.PC', 'atleta_scout.DP']\n",
            "['clube_escudos', 'clube_nome', 'clube_abreviacao', 'clube_slug', 'clube_apelido', 'clube_nome_fantasia', 'clube_id', 'clube_url_editoria']\n",
            "['posicao_id', 'posicao_nome', 'posicao_abreviacao']\n",
            "['status_nome', 'status_id']\n",
            "['aproveitamento_visitante', 'aproveitamento_mandante', 'local', 'status_transmissao_tr', 'status_cronometro_tr', 'periodo_tr', 'partida_data', 'inicio_cronometro_tr', 'placar_oficial_visitante', 'placar_oficial_mandante', 'partida_id', 'clube_visitante_posicao', 'clube_visitante_id', 'clube_casa_posicao', 'clube_casa_id', 'timestamp', 'campeonato_id', 'valida', 'transmissao.label', 'transmissao.url']\n",
            "['aproveitamento_visitante', 'aproveitamento_mandante', 'local', 'status_transmissao_tr', 'status_cronometro_tr', 'periodo_tr', 'partida_data', 'inicio_cronometro_tr', 'placar_oficial_visitante', 'placar_oficial_mandante', 'partida_id', 'clube_visitante_posicao', 'clube_visitante_id', 'clube_casa_posicao', 'clube_casa_id', 'timestamp', 'campeonato_id', 'valida', 'transmissao.label', 'transmissao.url', 'casa_clube_escudos', 'casa_clube_nome', 'casa_clube_abreviacao', 'casa_clube_slug', 'casa_clube_apelido', 'casa_clube_nome_fantasia', 'casa_clube_id', 'casa_clube_url_editoria', 'visitante_clube_escudos', 'visitante_clube_nome', 'visitante_clube_abreviacao', 'visitante_clube_slug', 'visitante_clube_apelido', 'visitante_clube_nome_fantasia', 'visitante_clube_id', 'visitante_clube_url_editoria', 'confronto_slug']\n"
          ]
        }
      ],
      "source": [
        "import pandas as pd\n",
        "import requests\n",
        "import json\n",
        "url = \"https://api.cartola.globo.com/atletas/mercado\"\n",
        "response = requests.get(url)\n",
        "json_data = response.json()\n",
        "data_dict = json.loads(response.text)\n",
        "atletas_df = pd.json_normalize(data_dict[\"atletas\"],max_level=2)\n",
        "atletas_df=atletas_df.add_prefix('atleta_')\n",
        "print(atletas_df.columns.tolist())\n",
        "atletas_df = atletas_df.rename(columns={'atleta_atleta_id':'atleta_id',\n",
        "                                        'atleta_clube_id': 'clube_id',\n",
        "                                        'atleta_posicao_id':'posicao_id',\n",
        "                                        'atleta_status_id':'status_id'})\n",
        "\n",
        "# Create the clubes DataFrame\n",
        "clubes_df = pd.DataFrame.from_dict(data_dict[\"clubes\"], orient='index')\n",
        "clubes_df=clubes_df.add_prefix('clube_')\n",
        "print(clubes_df.columns.tolist())\n",
        "\n",
        "# Create the posicoes DataFrame\n",
        "posicoes_df = pd.DataFrame.from_dict(data_dict[\"posicoes\"], orient='index')\n",
        "posicoes_df=posicoes_df.add_prefix('posicao_')\n",
        "print(posicoes_df.columns.tolist())\n",
        "\n",
        "#Create the status dataframe\n",
        "status_df=pd.DataFrame.from_dict(data_dict[\"status\"], orient='index')\n",
        "status_df=status_df.add_prefix('status_')\n",
        "print(status_df.columns.tolist())\n",
        "\n",
        "colunas = ['atleta_apelido','clube_abreviacao','posicao_abreviacao','status_nome', 'atleta_preco_num']\n",
        "\n",
        "partidas_response = requests.get('https://api.cartola.globo.com/partidas')\n",
        "partidas_json_data = partidas_response.json()\n",
        "partidas_df = pd.json_normalize(partidas_json_data[\"partidas\"],max_level=1)\n",
        "print(partidas_df.columns.tolist())\n",
        "confrontos_df = partidas_df.merge(clubes_df.add_prefix('casa_'), left_on='clube_casa_id', right_on='casa_clube_id')\n",
        "confrontos_df = confrontos_df.merge(clubes_df.add_prefix('visitante_'), left_on='clube_visitante_id', right_on='visitante_clube_id')\n",
        "confrontos_df['confronto_slug'] = confrontos_df['casa_clube_abreviacao'] + ' X ' + confrontos_df['visitante_clube_abreviacao']\n",
        "print(confrontos_df.columns.tolist())"
      ]
    }
  ]
}